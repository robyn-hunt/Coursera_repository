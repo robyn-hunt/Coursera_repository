{
 "cells": [
  {
   "cell_type": "markdown",
   "metadata": {},
   "source": [
    "A description of the problem and a discussion of the background. (15 marks)\n",
    "A description of the data and how it will be used to solve the problem. (15 marks)\n",
    "For the second week, the final deliverables of the project will be:\n",
    "\n",
    "A link to your Notebook on your Github repository, showing your code. (15 marks)\n",
    "A full report consisting of all of the following components (15 marks):\n",
    "Introduction where you discuss the business problem and who would be interested in this project.\n",
    "Data where you describe the data that will be used to solve the problem and the source of the data.\n",
    "Methodology section which represents the main component of the report where you discuss and describe any exploratory data analysis that you did, any inferential statistical testing that you performed, if any, and what machine learnings were used and why.\n",
    "Results section where you discuss the results.\n",
    "Discussion section where you discuss any observations you noted and any recommendations you can make based on the results.\n",
    "Conclusion section where you conclude the report.\n",
    "3. Your choice of a presentation or blogpost. (10 marks)"
   ]
  },
  {
   "cell_type": "markdown",
   "metadata": {},
   "source": []
  },
  {
   "cell_type": "markdown",
   "metadata": {},
   "source": [
    "Describe the data that you will be using to solve the problem or execute your idea. Remember that you will need to use the Foursquare location data to solve the problem or execute your idea. You can absolutely use other datasets in combination with the Foursquare location data. So make sure that you provide adequate explanation and discussion, with examples, of the data that you will be using, even if it is only Foursquare location data.\n",
    "\n",
    "This submission will eventually become your Data section in your final report. So I recommend that you push the report (having your Data section) to your Github repository and submit a link to it.\n",
    "\n"
   ]
  },
  {
   "cell_type": "code",
   "execution_count": 1,
   "metadata": {},
   "outputs": [
    {
     "ename": "ModuleNotFoundError",
     "evalue": "No module named 'geocoder'",
     "output_type": "error",
     "traceback": [
      "\u001b[1;31m---------------------------------------------------------------------------\u001b[0m",
      "\u001b[1;31mModuleNotFoundError\u001b[0m                       Traceback (most recent call last)",
      "\u001b[1;32m<ipython-input-1-15d80b1bb123>\u001b[0m in \u001b[0;36m<module>\u001b[1;34m\u001b[0m\n\u001b[1;32m----> 1\u001b[1;33m \u001b[1;32mimport\u001b[0m \u001b[0mgeocoder\u001b[0m \u001b[1;31m# import geocoder\u001b[0m\u001b[1;33m\u001b[0m\u001b[1;33m\u001b[0m\u001b[0m\n\u001b[0m\u001b[0;32m      2\u001b[0m \u001b[1;33m\u001b[0m\u001b[0m\n\u001b[0;32m      3\u001b[0m \u001b[1;31m# initialize your variable to None\u001b[0m\u001b[1;33m\u001b[0m\u001b[1;33m\u001b[0m\u001b[1;33m\u001b[0m\u001b[0m\n\u001b[0;32m      4\u001b[0m \u001b[0mlat_lng_coords\u001b[0m \u001b[1;33m=\u001b[0m \u001b[1;32mNone\u001b[0m\u001b[1;33m\u001b[0m\u001b[1;33m\u001b[0m\u001b[0m\n\u001b[0;32m      5\u001b[0m \u001b[1;33m\u001b[0m\u001b[0m\n",
      "\u001b[1;31mModuleNotFoundError\u001b[0m: No module named 'geocoder'"
     ]
    }
   ],
   "source": [
    "import geocoder # import geocoder\n",
    "\n",
    "# initialize your variable to None\n",
    "lat_lng_coords = None\n",
    "\n",
    "# loop until you get the coordinates\n",
    "while(lat_lng_coords is None):\n",
    "  g = geocoder.google('{}, Toronto, Ontario'.format(postal_code))\n",
    "  lat_lng_coords = g.latlng\n",
    "\n",
    "latitude = lat_lng_coords[0]\n",
    "longitude = lat_lng_coords[1]"
   ]
  },
  {
   "cell_type": "code",
   "execution_count": null,
   "metadata": {},
   "outputs": [],
   "source": []
  }
 ],
 "metadata": {
  "kernelspec": {
   "display_name": "Python 3",
   "language": "python",
   "name": "python3"
  },
  "language_info": {
   "codemirror_mode": {
    "name": "ipython",
    "version": 3
   },
   "file_extension": ".py",
   "mimetype": "text/x-python",
   "name": "python",
   "nbconvert_exporter": "python",
   "pygments_lexer": "ipython3",
   "version": "3.7.6"
  }
 },
 "nbformat": 4,
 "nbformat_minor": 4
}
